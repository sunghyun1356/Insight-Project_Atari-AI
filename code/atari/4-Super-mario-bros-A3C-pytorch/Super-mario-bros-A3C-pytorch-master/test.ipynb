{
 "cells": [
  {
   "cell_type": "code",
   "execution_count": 1,
   "id": "f33d5d74",
   "metadata": {},
   "outputs": [],
   "source": [
    "#pip install gym-super-mario-bros"
   ]
  },
  {
   "cell_type": "code",
   "execution_count": 2,
   "id": "344e9a74",
   "metadata": {},
   "outputs": [],
   "source": [
    "import os\n",
    "\n",
    "os.environ['OMP_NUM_THREADS'] = '1'\n",
    "import argparse\n",
    "import torch\n",
    "from src.env import create_train_env\n",
    "from src.model import ActorCritic\n",
    "import torch.nn.functional as F"
   ]
  },
  {
   "cell_type": "code",
   "execution_count": 3,
   "id": "2e593afe",
   "metadata": {},
   "outputs": [],
   "source": [
    "def get_args():\n",
    "    parser = argparse.ArgumentParser(\n",
    "        \"\"\"Implementation of model described in the paper: Asynchronous Methods for Deep Reinforcement Learning for Super Mario Bros\"\"\")\n",
    "    parser.add_argument(\"--world\", type=int, default=1)\n",
    "    parser.add_argument(\"--stage\", type=int, default=1)\n",
    "    parser.add_argument(\"--action_type\", type=str, default=\"complex\")\n",
    "    parser.add_argument(\"--saved_path\", type=str, default=\"trained_models\")\n",
    "    parser.add_argument(\"--output_path\", type=str, default=\"output\")\n",
    "    args = parser.parse_args()\n",
    "    return args"
   ]
  },
  {
   "cell_type": "code",
   "execution_count": 4,
   "id": "c29574bf",
   "metadata": {},
   "outputs": [],
   "source": [
    "def test(opt):\n",
    "    torch.manual_seed(123)\n",
    "    env, num_states, num_actions = create_train_env(opt.world, opt.stage, opt.action_type,\n",
    "                                                    \"{}/video_{}_{}.mp4\".format(opt.output_path, opt.world, opt.stage))\n",
    "    model = ActorCritic(num_states, num_actions)\n",
    "    if torch.cuda.is_available():\n",
    "        model.load_state_dict(torch.load(\"{}/a3c_super_mario_bros_{}_{}\".format(opt.saved_path, opt.world, opt.stage)))\n",
    "        model.cuda()\n",
    "    else:\n",
    "        model.load_state_dict(torch.load(\"{}/a3c_super_mario_bros_{}_{}\".format(opt.saved_path, opt.world, opt.stage),\n",
    "                                         map_location=lambda storage, loc: storage))\n",
    "    model.eval()\n",
    "    state = torch.from_numpy(env.reset())\n",
    "    done = True\n",
    "    while True:\n",
    "        if done:\n",
    "            h_0 = torch.zeros((1, 512), dtype=torch.float)\n",
    "            c_0 = torch.zeros((1, 512), dtype=torch.float)\n",
    "            env.reset()\n",
    "        else:\n",
    "            h_0 = h_0.detach()\n",
    "            c_0 = c_0.detach()\n",
    "        if torch.cuda.is_available():\n",
    "            h_0 = h_0.cuda()\n",
    "            c_0 = c_0.cuda()\n",
    "            state = state.cuda()\n",
    "\n",
    "        logits, value, h_0, c_0 = model(state, h_0, c_0)\n",
    "        policy = F.softmax(logits, dim=1)\n",
    "        action = torch.argmax(policy).item()\n",
    "        action = int(action)\n",
    "        state, reward, done, info = env.step(action)\n",
    "        state = torch.from_numpy(state)\n",
    "        env.render()\n",
    "        if info[\"flag_get\"]:\n",
    "            print(\"World {} stage {} completed\".format(opt.world, opt.stage))\n",
    "            break"
   ]
  },
  {
   "cell_type": "code",
   "execution_count": 5,
   "id": "e7ebca11",
   "metadata": {},
   "outputs": [
    {
     "name": "stderr",
     "output_type": "stream",
     "text": [
      "usage: Implementation of model described in the paper: Asynchronous Methods for Deep Reinforcement Learning for Super Mario Bros\n",
      "       [-h] [--world WORLD] [--stage STAGE] [--action_type ACTION_TYPE] [--saved_path SAVED_PATH]\n",
      "       [--output_path OUTPUT_PATH]\n",
      "Implementation of model described in the paper: Asynchronous Methods for Deep Reinforcement Learning for Super Mario Bros: error: unrecognized arguments: -f C:\\Users\\samsung\\AppData\\Roaming\\jupyter\\runtime\\kernel-b60dad00-e0f1-4871-b6fd-c07b296e4eeb.json\n"
     ]
    },
    {
     "ename": "SystemExit",
     "evalue": "2",
     "output_type": "error",
     "traceback": [
      "An exception has occurred, use %tb to see the full traceback.\n",
      "\u001b[1;31mSystemExit\u001b[0m\u001b[1;31m:\u001b[0m 2\n"
     ]
    },
    {
     "name": "stderr",
     "output_type": "stream",
     "text": [
      "C:\\Users\\samsung\\anaconda3\\lib\\site-packages\\IPython\\core\\interactiveshell.py:3445: UserWarning: To exit: use 'exit', 'quit', or Ctrl-D.\n",
      "  warn(\"To exit: use 'exit', 'quit', or Ctrl-D.\", stacklevel=1)\n"
     ]
    }
   ],
   "source": [
    "if __name__ == \"__main__\":\n",
    "    opt = get_args()\n",
    "    test(opt)"
   ]
  },
  {
   "cell_type": "code",
   "execution_count": null,
   "id": "59edd72e",
   "metadata": {},
   "outputs": [],
   "source": []
  }
 ],
 "metadata": {
  "kernelspec": {
   "display_name": "Python 3",
   "language": "python",
   "name": "python3"
  },
  "language_info": {
   "codemirror_mode": {
    "name": "ipython",
    "version": 3
   },
   "file_extension": ".py",
   "mimetype": "text/x-python",
   "name": "python",
   "nbconvert_exporter": "python",
   "pygments_lexer": "ipython3",
   "version": "3.8.8"
  },
  "toc": {
   "base_numbering": 1,
   "nav_menu": {},
   "number_sections": true,
   "sideBar": true,
   "skip_h1_title": false,
   "title_cell": "Table of Contents",
   "title_sidebar": "Contents",
   "toc_cell": false,
   "toc_position": {},
   "toc_section_display": true,
   "toc_window_display": false
  }
 },
 "nbformat": 4,
 "nbformat_minor": 5
}
